{
  "nbformat": 4,
  "nbformat_minor": 0,
  "metadata": {
    "colab": {
      "provenance": [],
      "mount_file_id": "1Sgd-I9WqM6wj0_v2UB2UT-AzKB8xS1o4",
      "authorship_tag": "ABX9TyOk3LY3fXvWqqyY8PtxpWGu",
      "include_colab_link": true
    },
    "kernelspec": {
      "name": "python3",
      "display_name": "Python 3"
    },
    "language_info": {
      "name": "python"
    }
  },
  "cells": [
    {
      "cell_type": "markdown",
      "metadata": {
        "id": "view-in-github",
        "colab_type": "text"
      },
      "source": [
        "<a href=\"https://colab.research.google.com/github/JyotsnaPatil27/Jyo_code/blob/master/Astro_research/ASS4.ipynb\" target=\"_parent\"><img src=\"https://colab.research.google.com/assets/colab-badge.svg\" alt=\"Open In Colab\"/></a>"
      ]
    },
    {
      "cell_type": "code",
      "metadata": {
        "id": "grUASpW5mmVb"
      },
      "source": [
        "import numpy as np\n",
        "import scipy.fftpack as syfp\n",
        "import scipy.signal as signal\n",
        "import matplotlib.pyplot as plt"
      ],
      "execution_count": null,
      "outputs": []
    },
    {
      "cell_type": "code",
      "source": [
        "from google.colab import drive\n",
        "drive.mount('/content/drive')"
      ],
      "metadata": {
        "colab": {
          "base_uri": "https://localhost:8080/"
        },
        "id": "D2eJhNeCQajM",
        "outputId": "c8f04712-a5dd-45f3-fb86-704f3d4ad013"
      },
      "execution_count": null,
      "outputs": [
        {
          "output_type": "stream",
          "name": "stdout",
          "text": [
            "Mounted at /content/drive\n"
          ]
        }
      ]
    },
    {
      "cell_type": "code",
      "metadata": {
        "colab": {
          "base_uri": "https://localhost:8080/"
        },
        "id": "dxzxaNmnoMmo",
        "outputId": "7659ee5b-13a9-4ae1-cda6-68afd94d5932"
      },
      "source": [
        "! ls"
      ],
      "execution_count": null,
      "outputs": [
        {
          "output_type": "stream",
          "text": [
            "drive  sample_data\n"
          ],
          "name": "stdout"
        }
      ]
    },
    {
      "cell_type": "code",
      "metadata": {
        "colab": {
          "base_uri": "https://localhost:8080/"
        },
        "id": "iyYiFg0EoPWv",
        "outputId": "3ceb0722-7460-44d1-9d42-708bdfb7856d"
      },
      "source": [
        "data = open(\"/content/drive/My Drive/Data/PNsspec_500assy2.dat\",\"r\").readlines()\n",
        "len(data)"
      ],
      "execution_count": null,
      "outputs": [
        {
          "output_type": "execute_result",
          "data": {
            "text/plain": [
              "9755"
            ]
          },
          "metadata": {
            "tags": []
          },
          "execution_count": 3
        }
      ]
    },
    {
      "cell_type": "code",
      "metadata": {
        "id": "Na8dT-K6qzco",
        "colab": {
          "base_uri": "https://localhost:8080/"
        },
        "outputId": "8f1f7a0c-15fa-40f3-8da7-b819c66ce85b"
      },
      "source": [
        "data1 = []\n",
        "for x in data:\n",
        "    data1.append(float(x.strip(' ')))\n",
        "data2 = np.array(data1)\n",
        "data2"
      ],
      "execution_count": null,
      "outputs": [
        {
          "output_type": "execute_result",
          "data": {
            "text/plain": [
              "array([4.19192093e+08, 4.19192095e+08, 4.19192097e+08, ...,\n",
              "       4.19274596e+08, 4.19274604e+08, 4.19274605e+08])"
            ]
          },
          "metadata": {
            "tags": []
          },
          "execution_count": 4
        }
      ]
    },
    {
      "cell_type": "code",
      "metadata": {
        "colab": {
          "base_uri": "https://localhost:8080/"
        },
        "id": "-zirhbNDrJJ4",
        "outputId": "4e71674b-efde-4c85-8453-87f5676b3b8b"
      },
      "source": [
        "reference_time = np.median(data2)\n",
        "t_0 = reference_time\n",
        "phase_zero_index = np.argsort(data2)[len(data2)//2]\n",
        "t_0, reference_time,phase_zero_index"
      ],
      "execution_count": null,
      "outputs": [
        {
          "output_type": "execute_result",
          "data": {
            "text/plain": [
              "(419232335.922371, 419232335.922371, 4877)"
            ]
          },
          "metadata": {
            "tags": []
          },
          "execution_count": 5
        }
      ]
    },
    {
      "cell_type": "code",
      "metadata": {
        "colab": {
          "base_uri": "https://localhost:8080/"
        },
        "id": "LC_c6S4Btbmu",
        "outputId": "ea2968a9-a2fc-4ad9-fd8f-af40f18992f1"
      },
      "source": [
        "spin_frequency = \"f_0\"\n",
        "f_0 = 20.5851\n",
        "frequency_derivative = \"f_dot\"\n",
        "f_dot = -3.648E-11\n",
        "delta_t = data2 - t_0\n",
        "phase_zero = delta_t[4877::4878]\n",
        "len(delta_t), phase_zero"
      ],
      "execution_count": null,
      "outputs": [
        {
          "output_type": "execute_result",
          "data": {
            "text/plain": [
              "(9755, array([0.]))"
            ]
          },
          "metadata": {
            "tags": []
          },
          "execution_count": 6
        }
      ]
    },
    {
      "cell_type": "code",
      "metadata": {
        "id": "kLpVBauWi-iv",
        "colab": {
          "base_uri": "https://localhost:8080/"
        },
        "outputId": "c569fb5b-3614-474a-8271-9025ac217b6b"
      },
      "source": [
        "#Taylor's expansion\n",
        "phase_i = phase_zero + (f_0*delta_t) +(0.5*f_dot*np.square(delta_t))\n",
        "len(phase_i)"
      ],
      "execution_count": null,
      "outputs": [
        {
          "output_type": "execute_result",
          "data": {
            "text/plain": [
              "9755"
            ]
          },
          "metadata": {
            "tags": []
          },
          "execution_count": 7
        }
      ]
    },
    {
      "cell_type": "code",
      "metadata": {
        "id": "ywBl9gsnjcjH",
        "colab": {
          "base_uri": "https://localhost:8080/"
        },
        "outputId": "39ca5d61-b17f-41a6-fdb5-ecde78d6d6ae"
      },
      "source": [
        "phase = np.floor(phase_i) - phase_i\n",
        "frac_phase = -phase\n",
        "len(frac_phase)"
      ],
      "execution_count": null,
      "outputs": [
        {
          "output_type": "execute_result",
          "data": {
            "text/plain": [
              "9755"
            ]
          },
          "metadata": {
            "tags": []
          },
          "execution_count": 8
        }
      ]
    },
    {
      "cell_type": "code",
      "metadata": {
        "colab": {
          "base_uri": "https://localhost:8080/",
          "height": 265
        },
        "id": "hSqJJltFj0Qc",
        "outputId": "c3952ce7-2ec4-449f-800a-829fb47ec031"
      },
      "source": [
        "plt.plot(frac_phase)\n",
        "plt.show()"
      ],
      "execution_count": null,
      "outputs": [
        {
          "output_type": "display_data",
          "data": {
            "image/png": "[encoded data removed]",
            "text/plain": [
              "<Figure size 432x288 with 1 Axes>"
            ]
          },
          "metadata": {
            "tags": [],
            "needs_background": "light"
          }
        }
      ]
    },
    {
      "cell_type": "code",
      "metadata": {
        "colab": {
          "base_uri": "https://localhost:8080/"
        },
        "id": "p5MOxZ_C0Kws",
        "outputId": "0658e332-ab32-42b0-d60e-1577b8acd86d"
      },
      "source": [
        "#Zn-test statistics\n",
        "Narray = len(frac_phase)\n",
        "Z21n = np.square(np.sum(np.cos(frac_phase))) + np.square(np.sum(np.sin(frac_phase)))\n",
        "Z22n = Z21n +(np.square(np.sum(np.cos(2*frac_phase))) + np.square(np.sum(np.sin(2*frac_phase))))\n",
        "Z21 = 2/Narray*Z21n\n",
        "Z22 = 2/Narray*Z22n\n",
        "Z21, Z22"
      ],
      "execution_count": null,
      "outputs": [
        {
          "output_type": "execute_result",
          "data": {
            "text/plain": [
              "(17947.635939776985, 31796.612514475368)"
            ]
          },
          "metadata": {
            "tags": []
          },
          "execution_count": 10
        }
      ]
    },
    {
      "cell_type": "code",
      "metadata": {
        "colab": {
          "base_uri": "https://localhost:8080/"
        },
        "id": "IBKOS0ujjK7x",
        "outputId": "26ff5cb4-462b-48c3-e8e0-396e0b858eaa"
      },
      "source": [
        "Z21_1 = 2/Narray*(np.square(np.sum(np.cos(frac_phase))) + np.square(np.sum(np.cos(frac_phase))))\n",
        "Z22_1 = Z21_1 + (2/Narray*(np.square(np.sum(np.cos(2*frac_phase))) + np.square(np.sum(np.cos(2*frac_phase)))))\n",
        "Z21_1, Z22_1"
      ],
      "execution_count": null,
      "outputs": [
        {
          "output_type": "execute_result",
          "data": {
            "text/plain": [
              "(27613.547188127413, 35655.668374226014)"
            ]
          },
          "metadata": {
            "tags": []
          },
          "execution_count": 11
        }
      ]
    },
    {
      "cell_type": "code",
      "metadata": {
        "id": "YoCgodWk-Nxk"
      },
      "source": [
        "freq = np.arange(20.5850,20.5852,2.050231e-8)\n",
        "Z21s_array =[]\n",
        "Z22s_array =[]\n",
        "for i in range(Narray):\n",
        "  phase = freq[i]*delta_t + 0.5*f_dot*np.square(delta_t)\n",
        "  frac_phi = 2*np.pi*(phase-np.floor(phase))\n",
        "  Z21s = 2/Narray*(np.square(np.sum(np.cos(frac_phi))) + np.square(np.sum(np.sin(frac_phi))))\n",
        "  Z22s = 2/Narray*(Z21 + (np.square(np.sum(np.cos(2*frac_phi))) + np.square(np.sum(np.sin(2*frac_phi)))))\n",
        "  Z21s_array.append(Z21s)\n",
        "  Z22s_array.append(Z22s)\n"
      ],
      "execution_count": null,
      "outputs": []
    },
    {
      "cell_type": "code",
      "metadata": {
        "colab": {
          "base_uri": "https://localhost:8080/"
        },
        "id": "7ZvyzMtbzc4p",
        "outputId": "7f0e373e-c6e5-4de2-fd34-a784a8d32f25"
      },
      "source": [
        "len(Z21s_array), len(Z22s_array)"
      ],
      "execution_count": null,
      "outputs": [
        {
          "output_type": "execute_result",
          "data": {
            "text/plain": [
              "(9755, 9755)"
            ]
          },
          "metadata": {
            "tags": []
          },
          "execution_count": 13
        }
      ]
    },
    {
      "cell_type": "code",
      "metadata": {
        "colab": {
          "base_uri": "https://localhost:8080/",
          "height": 497
        },
        "id": "K0jKv6Oz0W2o",
        "outputId": "d0d9757b-62f9-4254-916e-d61303e57114"
      },
      "source": [
        "x = np.arange(20.5850,20.5852,2.050231e-8)\n",
        "y1 = Z21s_array\n",
        "y2 = Z22s_array\n",
        "plt.figure(figsize=(15,8))\n",
        "plt.plot(x, y1, 'b-');\n",
        "plt.plot(x, y2, 'g-');\n",
        "plt.xlabel('Frequency(Hz)');\n",
        "plt.ylabel('Zn-statistics');\n",
        "plt.legend(['Z21', 'Z22'])\n",
        "plt.show()"
      ],
      "execution_count": null,
      "outputs": [
        {
          "output_type": "display_data",
          "data": {
            "image/png": "[encoded data removed]",
            "text/plain": [
              "<Figure size 1080x576 with 1 Axes>"
            ]
          },
          "metadata": {
            "tags": [],
            "needs_background": "light"
          }
        }
      ]
    },
    {
      "cell_type": "code",
      "metadata": {
        "colab": {
          "base_uri": "https://localhost:8080/"
        },
        "id": "YtlCNIxndnzv",
        "outputId": "493cdf5e-2fb8-4f2a-f8c4-fbaeacdbdf28"
      },
      "source": [
        "max_freq_Z21 = freq[np.argmax(Z21s_array)]\n",
        "max_freq_Z22 = freq[np.argmax(Z22s_array)]\n",
        "max_freq = [max_freq_Z21, max_freq_Z22]\n",
        "max_freq"
      ],
      "execution_count": null,
      "outputs": [
        {
          "output_type": "execute_result",
          "data": {
            "text/plain": [
              "[20.58512008202489, 20.58511981549487]"
            ]
          },
          "metadata": {
            "tags": []
          },
          "execution_count": 15
        }
      ]
    },
    {
      "cell_type": "code",
      "metadata": {
        "id": "4s1ql5bhqvqS",
        "colab": {
          "base_uri": "https://localhost:8080/"
        },
        "outputId": "aa8a36eb-41fe-42f2-dfe7-d5e9f6e8d285"
      },
      "source": [
        "max_freq = 20.58512\n",
        "new_phase = phase_zero + (max_freq*delta_t) +(0.5*f_dot*np.square(delta_t))\n",
        "new_phase"
      ],
      "execution_count": null,
      "outputs": [
        {
          "output_type": "execute_result",
          "data": {
            "text/plain": [
              "array([-828408.28083702, -828369.95887467, -828332.72428034, ...,\n",
              "        869921.25461702,  870089.82658418,  870117.88092965])"
            ]
          },
          "metadata": {
            "tags": []
          },
          "execution_count": 16
        }
      ]
    },
    {
      "cell_type": "code",
      "metadata": {
        "colab": {
          "base_uri": "https://localhost:8080/"
        },
        "id": "s-kTJ_mgQp2R",
        "outputId": "6d74f4ed-057a-4986-f580-7ddb6a5f2e12"
      },
      "source": [
        "phases = np.floor(new_phase) - new_phase\n",
        "new_frac_phase = -phases\n",
        "new_frac_phase"
      ],
      "execution_count": null,
      "outputs": [
        {
          "output_type": "execute_result",
          "data": {
            "text/plain": [
              "array([0.71916298, 0.04112533, 0.27571966, ..., 0.25461702, 0.82658418,\n",
              "       0.88092965])"
            ]
          },
          "metadata": {
            "tags": []
          },
          "execution_count": 17
        }
      ]
    },
    {
      "cell_type": "code",
      "metadata": {
        "colab": {
          "base_uri": "https://localhost:8080/",
          "height": 279
        },
        "id": "pCjABh8hTMeE",
        "outputId": "003ca86a-2214-4614-f5ec-6f1665b4389b"
      },
      "source": [
        "plt.hist(new_frac_phase, 300);\n",
        "plt.xlabel('Phases');\n",
        "plt.ylabel('Folded Intensity');\n",
        "plt.show()"
      ],
      "execution_count": null,
      "outputs": [
        {
          "output_type": "display_data",
          "data": {
            "image/png": "[encoded data removed]",
            "text/plain": [
              "<Figure size 432x288 with 1 Axes>"
            ]
          },
          "metadata": {
            "tags": [],
            "needs_background": "light"
          }
        }
      ]
    }
  ]
}