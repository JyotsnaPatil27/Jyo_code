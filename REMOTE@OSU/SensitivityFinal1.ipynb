{
  "nbformat": 4,
  "nbformat_minor": 0,
  "metadata": {
    "colab": {
      "provenance": [],
      "authorship_tag": "ABX9TyPXnkaSyIEJZvFj+yeFiJdQ",
      "include_colab_link": true
    },
    "kernelspec": {
      "name": "python3",
      "display_name": "Python 3"
    },
    "language_info": {
      "name": "python"
    }
  },
  "cells": [
    {
      "cell_type": "markdown",
      "metadata": {
        "id": "view-in-github",
        "colab_type": "text"
      },
      "source": [
        "<a href=\"https://colab.research.google.com/github/JyotsnaPatil27/Jyo_code/blob/master/REMOTE%40OSU/SensitivityFinal1.ipynb\" target=\"_parent\"><img src=\"https://colab.research.google.com/assets/colab-badge.svg\" alt=\"Open In Colab\"/></a>"
      ]
    },
    {
      "cell_type": "code",
      "execution_count": null,
      "metadata": {
        "id": "qvqDo05-SrGa"
      },
      "outputs": [],
      "source": [
        "import numpy as np\n",
        "import matplotlib.pyplot as plt\n",
        "import pandas as pd\n",
        "import glob, pickle, json, os\n",
        "import csv"
      ]
    },
    {
      "cell_type": "code",
      "source": [
        "from google.colab import drive\n",
        "drive.mount('/content/drive')"
      ],
      "metadata": {
        "colab": {
          "base_uri": "https://localhost:8080/"
        },
        "id": "ZRDbTtusS8Ji",
        "outputId": "5b7a33a8-6ac2-46c4-a820-c9e21db0f917"
      },
      "execution_count": null,
      "outputs": [
        {
          "output_type": "stream",
          "name": "stdout",
          "text": [
            "Mounted at /content/drive\n"
          ]
        }
      ]
    },
    {
      "cell_type": "markdown",
      "source": [
        "## Locating Files in Google Drive"
      ],
      "metadata": {
        "id": "2VULpGVPJuc-"
      }
    },
    {
      "cell_type": "code",
      "source": [
        "!ls /content/drive/MyDrive/PPTAData"
      ],
      "metadata": {
        "colab": {
          "base_uri": "https://localhost:8080/"
        },
        "id": "n-zCHwnwTKLE",
        "outputId": "e54a292b-1af6-4277-e86c-f69f062609e8"
      },
      "execution_count": null,
      "outputs": [
        {
          "output_type": "stream",
          "name": "stdout",
          "text": [
            " J1713+0747.par\t\t\t     J2124-3358.tim\t\t\t sample.txt\n",
            " J1713+0747_singlePsrNoise_fit.par   J2145-0750.par\t\t\t TOA_1.csv\n",
            " J1713+0747.tim\t\t\t     J2145-0750_singlePsrNoise_fit.par\t TOA_2.csv\n",
            " J2124-3358.par\t\t\t     J2145-0750.tim\t\t\t TOA_2.xlsx\n",
            " J2124-3358_singlePsrNoise_fit.par  'Pulsar Data.xlsx'\n"
          ]
        }
      ]
    },
    {
      "cell_type": "code",
      "source": [
        "#directory paths\n",
        "parameterdir = '/content/drive/MyDrive/PPTAData/'\n",
        "timedir = '/content/drive/MyDrive/PPTAData/'\n",
        "noise_dir = '/content/drive/MyDrive/PPTAData/'\n",
        "parfiles = sorted(glob.glob(parameterdir+'*.par'))\n",
        "timfiles = sorted(glob.glob(timedir+'*.tim'))"
      ],
      "metadata": {
        "id": "4PQuy0DjTX5T"
      },
      "execution_count": null,
      "outputs": []
    },
    {
      "cell_type": "code",
      "source": [
        "parfiles"
      ],
      "metadata": {
        "colab": {
          "base_uri": "https://localhost:8080/"
        },
        "id": "gnhMLDGzTb-Q",
        "outputId": "337532cd-69dd-469b-a7b4-20c5cda53852"
      },
      "execution_count": null,
      "outputs": [
        {
          "output_type": "execute_result",
          "data": {
            "text/plain": [
              "['/content/drive/MyDrive/PPTAData/J1713+0747.par',\n",
              " '/content/drive/MyDrive/PPTAData/J1713+0747_singlePsrNoise_fit.par',\n",
              " '/content/drive/MyDrive/PPTAData/J2124-3358.par',\n",
              " '/content/drive/MyDrive/PPTAData/J2124-3358_singlePsrNoise_fit.par',\n",
              " '/content/drive/MyDrive/PPTAData/J2145-0750.par',\n",
              " '/content/drive/MyDrive/PPTAData/J2145-0750_singlePsrNoise_fit.par']"
            ]
          },
          "metadata": {},
          "execution_count": 5
        }
      ]
    },
    {
      "cell_type": "code",
      "source": [
        "extension = '*_fit.par'\n",
        "noise_files = glob.glob(os.path.join(parameterdir, extension))\n",
        "noise_files"
      ],
      "metadata": {
        "colab": {
          "base_uri": "https://localhost:8080/"
        },
        "id": "Q4uelmoKTfGa",
        "outputId": "db054bf7-5a68-4f41-f035-8fc2496333d4"
      },
      "execution_count": null,
      "outputs": [
        {
          "output_type": "execute_result",
          "data": {
            "text/plain": [
              "['/content/drive/MyDrive/PPTAData/J1713+0747_singlePsrNoise_fit.par',\n",
              " '/content/drive/MyDrive/PPTAData/J2124-3358_singlePsrNoise_fit.par',\n",
              " '/content/drive/MyDrive/PPTAData/J2145-0750_singlePsrNoise_fit.par']"
            ]
          },
          "metadata": {},
          "execution_count": 6
        }
      ]
    },
    {
      "cell_type": "code",
      "source": [
        "parafiles = list(set(parfiles)^set(noise_files))\n",
        "parafiles"
      ],
      "metadata": {
        "colab": {
          "base_uri": "https://localhost:8080/"
        },
        "id": "0QSMu6b6Ti9e",
        "outputId": "9243c1ee-20c0-43b1-ca60-00bd237f825e"
      },
      "execution_count": null,
      "outputs": [
        {
          "output_type": "execute_result",
          "data": {
            "text/plain": [
              "['/content/drive/MyDrive/PPTAData/J2124-3358.par',\n",
              " '/content/drive/MyDrive/PPTAData/J1713+0747.par',\n",
              " '/content/drive/MyDrive/PPTAData/J2145-0750.par']"
            ]
          },
          "metadata": {},
          "execution_count": 7
        }
      ]
    },
    {
      "cell_type": "code",
      "source": [
        "timfiles"
      ],
      "metadata": {
        "colab": {
          "base_uri": "https://localhost:8080/"
        },
        "id": "FXzymyR0Tmlf",
        "outputId": "f2490a7c-6c4e-4227-8e92-523d0e751ad9"
      },
      "execution_count": null,
      "outputs": [
        {
          "output_type": "execute_result",
          "data": {
            "text/plain": [
              "['/content/drive/MyDrive/PPTAData/J1713+0747.tim',\n",
              " '/content/drive/MyDrive/PPTAData/J2124-3358.tim',\n",
              " '/content/drive/MyDrive/PPTAData/J2145-0750.tim']"
            ]
          },
          "metadata": {},
          "execution_count": 8
        }
      ]
    },
    {
      "cell_type": "markdown",
      "source": [
        "## Pre-processing Data - Sorting TOA and TOA_ERROR from tim files"
      ],
      "metadata": {
        "id": "zFwLzsu4J6Tm"
      }
    },
    {
      "cell_type": "code",
      "source": [
        "timing1 = []\n",
        "with open('/content/drive/MyDrive/PPTAData/J1713+0747.tim', 'r') as f:\n",
        "  f1 = f.readlines()\n",
        "  for line in f1:\n",
        "    timing1.append(line)\n",
        "timing1= timing1[2:]\n",
        "tim_PSRJ1713 = []\n",
        "for x in timing1:\n",
        "  tim_PSRJ1713.append(str(x.split('\\t')[0]))\n",
        "tim_PSRJ1713_1 = []\n",
        "for k in tim_PSRJ1713:\n",
        "  tim_PSRJ1713_1.append(str(k.split(\" \" , 5)[3].strip()))\n",
        "tim_PSRJ1713_2 = []\n",
        "for j in tim_PSRJ1713:\n",
        "  tim_PSRJ1713_2.append(str(j.split(\" \" , 5)[4].strip()))\n",
        "tim_1713 = zip(tim_PSRJ1713_1, tim_PSRJ1713_2)\n",
        "with open('tim_PSRJ1713_3_3.csv', 'w', newline='') as f3:\n",
        "  writer = csv.writer(f3)\n",
        "  for row in tim_1713:\n",
        "    writer.writerow(row)\n"
      ],
      "metadata": {
        "id": "tJyYZhQmTqU0"
      },
      "execution_count": null,
      "outputs": []
    },
    {
      "cell_type": "code",
      "source": [
        "timing2 = []\n",
        "with open('/content/drive/MyDrive/PPTAData/J2145-0750.tim', 'r') as f4:\n",
        "  f5 = f4.readlines()\n",
        "  for line in f5:\n",
        "    timing2.append(line)\n",
        "timing2= timing2[2:]\n",
        "tim_PSRJ2145 = []\n",
        "for x in timing2:\n",
        "  tim_PSRJ2145.append(str(x.split('\\t')[0]))\n",
        "tim_PSRJ2145_1 = []\n",
        "for k in tim_PSRJ2145:\n",
        "  tim_PSRJ2145_1.append(str(k.split(\" \" , 5)[3].strip()))\n",
        "tim_PSRJ2145_2 = []\n",
        "for j in tim_PSRJ2145:\n",
        "  tim_PSRJ2145_2.append(str(j.split(\" \" , 5)[4].strip()))\n",
        "tim_2145 = zip(tim_PSRJ2145_1, tim_PSRJ2145_2)\n",
        "with open('tim_PSRJ2145_3_3.csv', 'w', newline='') as f6:\n",
        "  writer1 = csv.writer(f6)\n",
        "  for row in tim_2145:\n",
        "    writer1.writerow(row)"
      ],
      "metadata": {
        "id": "ogqm9Y32Twps"
      },
      "execution_count": null,
      "outputs": []
    },
    {
      "cell_type": "code",
      "source": [
        "timing3 = []\n",
        "with open('/content/drive/MyDrive/PPTAData/J2124-3358.tim', 'r') as f7:\n",
        "  f8 = f7.readlines()\n",
        "  for line in f8:\n",
        "    timing3.append(line)\n",
        "timing3= timing3[2:]\n",
        "tim_PSRJ2124 = []\n",
        "for x in timing3:\n",
        "  tim_PSRJ2124.append(str(x.split('\\t')[0]))\n",
        "tim_PSRJ2124_1 = []\n",
        "for k in tim_PSRJ2145:\n",
        "  tim_PSRJ2124_1.append(str(k.split(\" \" , 5)[3].strip()))\n",
        "tim_PSRJ2124_2 = []\n",
        "for j in tim_PSRJ2124:\n",
        "  tim_PSRJ2124_2.append(str(j.split(\" \" , 5)[4].strip()))\n",
        "tim_2124 = zip(tim_PSRJ2124_1, tim_PSRJ2124_2)\n",
        "with open('tim_PSRJ2124_3_3.csv', 'w', newline='') as f9:\n",
        "  writer2 = csv.writer(f9)\n",
        "  for row in tim_2124:\n",
        "    writer2.writerow(row)"
      ],
      "metadata": {
        "id": "A_au_kJDT0eS"
      },
      "execution_count": null,
      "outputs": []
    },
    {
      "cell_type": "markdown",
      "source": [
        "## NanoGrav Data"
      ],
      "metadata": {
        "id": "a5ZsHHPZK6l4"
      }
    },
    {
      "cell_type": "code",
      "source": [
        "!ls /content/drive/MyDrive/NanoGrav-nb"
      ],
      "metadata": {
        "colab": {
          "base_uri": "https://localhost:8080/"
        },
        "id": "Hg1PCyqiT7SK",
        "outputId": "3a43848e-ef2e-4957-8241-b1081cc78a2b"
      },
      "execution_count": null,
      "outputs": [
        {
          "output_type": "stream",
          "name": "stdout",
          "text": [
            "J1713+0747ao_PINT_20220306.nb.par   J2124-3358_PINT_20220301.nb.par\n",
            "J1713+0747ao_PINT_20220306.nb.tim   J2124-3358_PINT_20220301.nb.tim\n",
            "J1713+0747gbt_PINT_20220302.nb.par  J2145-0750_PINT_20220302.nb.par\n",
            "J1713+0747gbt_PINT_20220302.nb.tim  J2145-0750_PINT_20220302.nb.tim\n",
            "J1713+0747_PINT_20220309.nb.par     Sensitivity\n",
            "J1713+0747_PINT_20220309.nb.tim\n"
          ]
        }
      ]
    },
    {
      "cell_type": "code",
      "source": [
        "#directory paths\n",
        "parameterdir = '/content/drive/MyDrive/NanoGrav-nb/'\n",
        "timedir = '/content/drive/MyDrive/NanoGrav-nb/'\n",
        "noise_dir = '/content/drive/MyDrive/NanoGrav-nb/'\n",
        "parfiles = sorted(glob.glob(parameterdir+'*.par'))\n",
        "timfiles = sorted(glob.glob(timedir+'*.tim'))"
      ],
      "metadata": {
        "id": "GYX_pH5KUEBp"
      },
      "execution_count": null,
      "outputs": []
    },
    {
      "cell_type": "code",
      "source": [
        "parfiles"
      ],
      "metadata": {
        "colab": {
          "base_uri": "https://localhost:8080/"
        },
        "id": "FAyBbW28UJEI",
        "outputId": "a06e8631-46a3-43fc-dc34-bf24f78ce379"
      },
      "execution_count": null,
      "outputs": [
        {
          "output_type": "execute_result",
          "data": {
            "text/plain": [
              "['/content/drive/MyDrive/NanoGrav-nb/J1713+0747_PINT_20220309.nb.par',\n",
              " '/content/drive/MyDrive/NanoGrav-nb/J1713+0747ao_PINT_20220306.nb.par',\n",
              " '/content/drive/MyDrive/NanoGrav-nb/J1713+0747gbt_PINT_20220302.nb.par',\n",
              " '/content/drive/MyDrive/NanoGrav-nb/J2124-3358_PINT_20220301.nb.par',\n",
              " '/content/drive/MyDrive/NanoGrav-nb/J2145-0750_PINT_20220302.nb.par']"
            ]
          },
          "metadata": {},
          "execution_count": 14
        }
      ]
    },
    {
      "cell_type": "code",
      "source": [
        "timfiles"
      ],
      "metadata": {
        "colab": {
          "base_uri": "https://localhost:8080/"
        },
        "id": "tac_A4lNYB7r",
        "outputId": "7b075c7f-922e-47da-8cc8-677c081729e1"
      },
      "execution_count": null,
      "outputs": [
        {
          "output_type": "execute_result",
          "data": {
            "text/plain": [
              "['/content/drive/MyDrive/NanoGrav-nb/J1713+0747_PINT_20220309.nb.tim',\n",
              " '/content/drive/MyDrive/NanoGrav-nb/J1713+0747ao_PINT_20220306.nb.tim',\n",
              " '/content/drive/MyDrive/NanoGrav-nb/J1713+0747gbt_PINT_20220302.nb.tim',\n",
              " '/content/drive/MyDrive/NanoGrav-nb/J2124-3358_PINT_20220301.nb.tim',\n",
              " '/content/drive/MyDrive/NanoGrav-nb/J2145-0750_PINT_20220302.nb.tim']"
            ]
          },
          "metadata": {},
          "execution_count": 15
        }
      ]
    },
    {
      "cell_type": "code",
      "source": [
        "timing_ng_1 = []\n",
        "with open('/content/drive/MyDrive/NanoGrav-nb/J1713+0747_PINT_20220309.nb.tim', 'r') as f:\n",
        "  f1 = f.readlines()\n",
        "  for line in f1:\n",
        "    timing_ng_1.append(line)\n",
        "timing_ng1= timing_ng_1[6:]\n",
        "tim_ng_PSRJ1713 = []\n",
        "for x in timing_ng1:\n",
        "  tim_ng_PSRJ1713.append(str(x.split('\\t')[0]))\n",
        "tim_ng_PSRJ1713_1 = []\n",
        "for k in tim_ng_PSRJ1713:\n",
        "  tim_ng_PSRJ1713_1.append(str(k.split(\" \" , 5)[2].strip()))\n",
        "tim_ng_PSRJ1713_2 = []\n",
        "for j in tim_ng_PSRJ1713:\n",
        "  tim_ng_PSRJ1713_2.append(str(j.split(\" \" , 5)[3].strip()))\n",
        "tim_ng_1713 = zip(tim_ng_PSRJ1713_1, tim_ng_PSRJ1713_2)\n",
        "with open('tim_ng_PSRJ1713_1.csv', 'w', newline='') as f3:\n",
        "  writer = csv.writer(f3)\n",
        "  for row in tim_ng_1713:\n",
        "    writer.writerow(row)"
      ],
      "metadata": {
        "id": "hpylNaNEYFWT"
      },
      "execution_count": null,
      "outputs": []
    },
    {
      "cell_type": "code",
      "source": [
        "timing_ng_ao_1 = []\n",
        "with open('/content/drive/MyDrive/NanoGrav-nb/J1713+0747ao_PINT_20220306.nb.tim', 'r') as f4:\n",
        "  f5 = f4.readlines()\n",
        "  for line in f5:\n",
        "    timing_ng_ao_1.append(line)\n",
        "timing_ng_ao_1= timing_ng_ao_1[6:]\n",
        "tim_ng_ao_PSRJ1713 = []\n",
        "for x in timing_ng_ao_1:\n",
        "  tim_ng_ao_PSRJ1713.append(str(x.split('\\t')[0]))\n",
        "tim_ng_ao_PSRJ1713_1 = []\n",
        "for k in tim_ng_ao_PSRJ1713:\n",
        "  tim_ng_ao_PSRJ1713_1.append(str(k.split(\" \" , 5)[2].strip()))\n",
        "tim_ng_ao_PSRJ1713_2 = []\n",
        "for j in tim_ng_ao_PSRJ1713:\n",
        "  tim_ng_ao_PSRJ1713_2.append(str(j.split(\" \" , 5)[3].strip()))\n",
        "tim_ng_ao_1713 = zip(tim_ng_ao_PSRJ1713_1, tim_ng_ao_PSRJ1713_2)\n",
        "with open('tim_ng_ao_PSRJ1713_1.csv', 'w', newline='') as f6:\n",
        "  writer = csv.writer(f6)\n",
        "  for row in tim_ng_ao_1713:\n",
        "    writer.writerow(row)\n"
      ],
      "metadata": {
        "id": "twdpuQvrYLPz"
      },
      "execution_count": null,
      "outputs": []
    },
    {
      "cell_type": "code",
      "source": [
        "timing_ng_gbt_1 = []\n",
        "with open('/content/drive/MyDrive/NanoGrav-nb/J1713+0747gbt_PINT_20220302.nb.tim', 'r') as f7:\n",
        "  f8 = f7.readlines()\n",
        "  for line in f8:\n",
        "    timing_ng_gbt_1.append(line)\n",
        "timing_ng_gbt_1= timing_ng_gbt_1[6:]\n",
        "tim_ng_gbt_PSRJ1713 = []\n",
        "for x in timing_ng_gbt_1:\n",
        "  tim_ng_gbt_PSRJ1713.append(str(x.split('\\t')[0]))\n",
        "tim_ng_gbt_PSRJ1713_1 = []\n",
        "for k in tim_ng_gbt_PSRJ1713:\n",
        "  tim_ng_gbt_PSRJ1713_1.append(str(k.split(\" \" , 5)[2].strip()))\n",
        "tim_ng_gbt_PSRJ1713_2 = []\n",
        "for j in tim_ng_gbt_PSRJ1713:\n",
        "  tim_ng_gbt_PSRJ1713_2.append(str(j.split(\" \" , 5)[3].strip()))\n",
        "tim_ng_gbt_1713 = zip(tim_ng_gbt_PSRJ1713_1, tim_ng_gbt_PSRJ1713_2)\n",
        "with open('tim_ng_gbt_PSRJ1713_1.csv', 'w', newline='') as f9:\n",
        "  writer = csv.writer(f9)\n",
        "  for row in tim_ng_gbt_1713:\n",
        "    writer.writerow(row)"
      ],
      "metadata": {
        "id": "LrjoBAltYPwh"
      },
      "execution_count": null,
      "outputs": []
    },
    {
      "cell_type": "code",
      "source": [
        "timing_ng_2 = []\n",
        "with open('/content/drive/MyDrive/NanoGrav-nb/J2124-3358_PINT_20220301.nb.tim', 'r') as f10:\n",
        "  f11 = f10.readlines()\n",
        "  for line in f11:\n",
        "    timing_ng_2.append(line)\n",
        "timing_ng2= timing_ng_2[6:]\n",
        "tim_ng_PSRJ2124 = []\n",
        "for x in timing_ng2:\n",
        "  tim_ng_PSRJ2124.append(str(x.split('\\t')[0]))\n",
        "tim_ng_PSRJ2124_1 = []\n",
        "for k in tim_ng_PSRJ2124:\n",
        "  tim_ng_PSRJ2124_1.append(str(k.split(\" \" , 5)[2].strip()))\n",
        "tim_ng_PSRJ2124_2 = []\n",
        "for j in tim_ng_PSRJ2124:\n",
        "  tim_ng_PSRJ2124_2.append(str(j.split(\" \" , 5)[3].strip()))\n",
        "tim_ng_2124 = zip(tim_ng_PSRJ2124_1, tim_ng_PSRJ2124_2)\n",
        "with open('tim_ng_PSRJ2124_1.csv', 'w', newline='') as f12:\n",
        "  writer = csv.writer(f12)\n",
        "  for row in tim_ng_2124:\n",
        "    writer.writerow(row)"
      ],
      "metadata": {
        "id": "jL7gxHmOYX8X"
      },
      "execution_count": null,
      "outputs": []
    },
    {
      "cell_type": "code",
      "source": [
        "timing_ng_3 = []\n",
        "with open('/content/drive/MyDrive/NanoGrav-nb/J2145-0750_PINT_20220302.nb.tim', 'r') as f13:\n",
        "  f14 = f13.readlines()\n",
        "  for line in f14:\n",
        "    timing_ng_3.append(line)\n",
        "timing_ng3= timing_ng_3[6:]\n",
        "tim_ng_PSRJ2145 = []\n",
        "for x in timing_ng3:\n",
        "  tim_ng_PSRJ2145.append(str(x.split('\\t')[0]))\n",
        "tim_ng_PSRJ2145_1 = []\n",
        "for k in tim_ng_PSRJ2145:\n",
        "  tim_ng_PSRJ2145_1.append(str(k.split(\" \" , 5)[2].strip()))\n",
        "tim_ng_PSRJ2145_2 = []\n",
        "for j in tim_ng_PSRJ2145:\n",
        "  tim_ng_PSRJ2145_2.append(str(j.split(\" \" , 5)[3].strip()))\n",
        "tim_ng_2145 = zip(tim_ng_PSRJ2145_1, tim_ng_PSRJ2145_2)\n",
        "with open('tim_ng_PSRJ2145_1.csv', 'w', newline='') as f15:\n",
        "  writer = csv.writer(f15)\n",
        "  for row in tim_ng_2145:\n",
        "    writer.writerow(row)"
      ],
      "metadata": {
        "id": "zOzZRVjDYZw9"
      },
      "execution_count": null,
      "outputs": []
    },
    {
      "cell_type": "markdown",
      "source": [
        "## Converting MJD of TOA into Seconds"
      ],
      "metadata": {
        "id": "O-kARpH8LSQY"
      }
    },
    {
      "cell_type": "code",
      "source": [
        "read_file = pd.read_excel(r\"/content/drive/MyDrive/SENSITIVITY/TOA_1713.xlsx\")\n",
        "read_file.to_csv(r\"/content/drive/MyDrive/SENSITIVITY/TOA_1713.csv\", index=False, header=True)"
      ],
      "metadata": {
        "id": "pzTMCFGlIuIw"
      },
      "execution_count": null,
      "outputs": []
    },
    {
      "cell_type": "code",
      "source": [
        "df = pd.DataFrame(pd.read_csv(\"/content/drive/MyDrive/SENSITIVITY/TOA_1713.csv\"))\n",
        "df"
      ],
      "metadata": {
        "colab": {
          "base_uri": "https://localhost:8080/",
          "height": 424
        },
        "id": "TA56naO3JoQB",
        "outputId": "0fb100e9-184a-416d-f40e-39300b7695eb"
      },
      "execution_count": null,
      "outputs": [
        {
          "output_type": "execute_result",
          "data": {
            "text/plain": [
              "          MJD_1713  TOA_ERR_1713\n",
              "0     53040.943687         2.034\n",
              "1     53040.943687         5.076\n",
              "2     53040.943687         3.467\n",
              "3     53040.943949         0.395\n",
              "4     53040.943949         0.760\n",
              "...            ...           ...\n",
              "5136  59303.777495         0.463\n",
              "5137  59303.777495         2.514\n",
              "5138  59303.777495         0.914\n",
              "5139  59303.777495         2.673\n",
              "5140  59303.777495         0.213\n",
              "\n",
              "[5141 rows x 2 columns]"
            ],
            "text/html": [
              "\n",
              "  <div id=\"df-5120fa98-6818-4e63-8e74-1193c532853a\" class=\"colab-df-container\">\n",
              "    <div>\n",
              "<style scoped>\n",
              "    .dataframe tbody tr th:only-of-type {\n",
              "        vertical-align: middle;\n",
              "    }\n",
              "\n",
              "    .dataframe tbody tr th {\n",
              "        vertical-align: top;\n",
              "    }\n",
              "\n",
              "    .dataframe thead th {\n",
              "        text-align: right;\n",
              "    }\n",
              "</style>\n",
              "<table border=\"1\" class=\"dataframe\">\n",
              "  <thead>\n",
              "    <tr style=\"text-align: right;\">\n",
              "      <th></th>\n",
              "      <th>MJD_1713</th>\n",
              "      <th>TOA_ERR_1713</th>\n",
              "    </tr>\n",
              "  </thead>\n",
              "  <tbody>\n",
              "    <tr>\n",
              "      <th>0</th>\n",
              "      <td>53040.943687</td>\n",
              "      <td>2.034</td>\n",
              "    </tr>\n",
              "    <tr>\n",
              "      <th>1</th>\n",
              "      <td>53040.943687</td>\n",
              "      <td>5.076</td>\n",
              "    </tr>\n",
              "    <tr>\n",
              "      <th>2</th>\n",
              "      <td>53040.943687</td>\n",
              "      <td>3.467</td>\n",
              "    </tr>\n",
              "    <tr>\n",
              "      <th>3</th>\n",
              "      <td>53040.943949</td>\n",
              "      <td>0.395</td>\n",
              "    </tr>\n",
              "    <tr>\n",
              "      <th>4</th>\n",
              "      <td>53040.943949</td>\n",
              "      <td>0.760</td>\n",
              "    </tr>\n",
              "    <tr>\n",
              "      <th>...</th>\n",
              "      <td>...</td>\n",
              "      <td>...</td>\n",
              "    </tr>\n",
              "    <tr>\n",
              "      <th>5136</th>\n",
              "      <td>59303.777495</td>\n",
              "      <td>0.463</td>\n",
              "    </tr>\n",
              "    <tr>\n",
              "      <th>5137</th>\n",
              "      <td>59303.777495</td>\n",
              "      <td>2.514</td>\n",
              "    </tr>\n",
              "    <tr>\n",
              "      <th>5138</th>\n",
              "      <td>59303.777495</td>\n",
              "      <td>0.914</td>\n",
              "    </tr>\n",
              "    <tr>\n",
              "      <th>5139</th>\n",
              "      <td>59303.777495</td>\n",
              "      <td>2.673</td>\n",
              "    </tr>\n",
              "    <tr>\n",
              "      <th>5140</th>\n",
              "      <td>59303.777495</td>\n",
              "      <td>0.213</td>\n",
              "    </tr>\n",
              "  </tbody>\n",
              "</table>\n",
              "<p>5141 rows × 2 columns</p>\n",
              "</div>\n",
              "    <div class=\"colab-df-buttons\">\n",
              "\n",
              "  <div class=\"colab-df-container\">\n",
              "    <button class=\"colab-df-convert\" onclick=\"convertToInteractive('df-5120fa98-6818-4e63-8e74-1193c532853a')\"\n",
              "            title=\"Convert this dataframe to an interactive table.\"\n",
              "            style=\"display:none;\">\n",
              "\n",
              "  <svg xmlns=\"http://www.w3.org/2000/svg\" height=\"24px\" viewBox=\"0 -960 960 960\">\n",
              "    <path d=\"M120-120v-720h720v720H120Zm60-500h600v-160H180v160Zm220 220h160v-160H400v160Zm0 220h160v-160H400v160ZM180-400h160v-160H180v160Zm440 0h160v-160H620v160ZM180-180h160v-160H180v160Zm440 0h160v-160H620v160Z\"/>\n",
              "  </svg>\n",
              "    </button>\n",
              "\n",
              "  <style>\n",
              "    .colab-df-container {\n",
              "      display:flex;\n",
              "      gap: 12px;\n",
              "    }\n",
              "\n",
              "    .colab-df-convert {\n",
              "      background-color: #E8F0FE;\n",
              "      border: none;\n",
              "      border-radius: 50%;\n",
              "      cursor: pointer;\n",
              "      display: none;\n",
              "      fill: #1967D2;\n",
              "      height: 32px;\n",
              "      padding: 0 0 0 0;\n",
              "      width: 32px;\n",
              "    }\n",
              "\n",
              "    .colab-df-convert:hover {\n",
              "      background-color: #E2EBFA;\n",
              "      box-shadow: 0px 1px 2px rgba(60, 64, 67, 0.3), 0px 1px 3px 1px rgba(60, 64, 67, 0.15);\n",
              "      fill: #174EA6;\n",
              "    }\n",
              "\n",
              "    .colab-df-buttons div {\n",
              "      margin-bottom: 4px;\n",
              "    }\n",
              "\n",
              "    [theme=dark] .colab-df-convert {\n",
              "      background-color: #3B4455;\n",
              "      fill: #D2E3FC;\n",
              "    }\n",
              "\n",
              "    [theme=dark] .colab-df-convert:hover {\n",
              "      background-color: #434B5C;\n",
              "      box-shadow: 0px 1px 3px 1px rgba(0, 0, 0, 0.15);\n",
              "      filter: drop-shadow(0px 1px 2px rgba(0, 0, 0, 0.3));\n",
              "      fill: #FFFFFF;\n",
              "    }\n",
              "  </style>\n",
              "\n",
              "    <script>\n",
              "      const buttonEl =\n",
              "        document.querySelector('#df-5120fa98-6818-4e63-8e74-1193c532853a button.colab-df-convert');\n",
              "      buttonEl.style.display =\n",
              "        google.colab.kernel.accessAllowed ? 'block' : 'none';\n",
              "\n",
              "      async function convertToInteractive(key) {\n",
              "        const element = document.querySelector('#df-5120fa98-6818-4e63-8e74-1193c532853a');\n",
              "        const dataTable =\n",
              "          await google.colab.kernel.invokeFunction('convertToInteractive',\n",
              "                                                    [key], {});\n",
              "        if (!dataTable) return;\n",
              "\n",
              "        const docLinkHtml = 'Like what you see? Visit the ' +\n",
              "          '<a target=\"_blank\" href=https://colab.research.google.com/notebooks/data_table.ipynb>data table notebook</a>'\n",
              "          + ' to learn more about interactive tables.';\n",
              "        element.innerHTML = '';\n",
              "        dataTable['output_type'] = 'display_data';\n",
              "        await google.colab.output.renderOutput(dataTable, element);\n",
              "        const docLink = document.createElement('div');\n",
              "        docLink.innerHTML = docLinkHtml;\n",
              "        element.appendChild(docLink);\n",
              "      }\n",
              "    </script>\n",
              "  </div>\n",
              "\n",
              "\n",
              "<div id=\"df-506bca7e-f270-4dc0-a6c7-6bac5cccb71c\">\n",
              "  <button class=\"colab-df-quickchart\" onclick=\"quickchart('df-506bca7e-f270-4dc0-a6c7-6bac5cccb71c')\"\n",
              "            title=\"Suggest charts\"\n",
              "            style=\"display:none;\">\n",
              "\n",
              "<svg xmlns=\"http://www.w3.org/2000/svg\" height=\"24px\"viewBox=\"0 0 24 24\"\n",
              "     width=\"24px\">\n",
              "    <g>\n",
              "        <path d=\"M19 3H5c-1.1 0-2 .9-2 2v14c0 1.1.9 2 2 2h14c1.1 0 2-.9 2-2V5c0-1.1-.9-2-2-2zM9 17H7v-7h2v7zm4 0h-2V7h2v10zm4 0h-2v-4h2v4z\"/>\n",
              "    </g>\n",
              "</svg>\n",
              "  </button>\n",
              "\n",
              "<style>\n",
              "  .colab-df-quickchart {\n",
              "      --bg-color: #E8F0FE;\n",
              "      --fill-color: #1967D2;\n",
              "      --hover-bg-color: #E2EBFA;\n",
              "      --hover-fill-color: #174EA6;\n",
              "      --disabled-fill-color: #AAA;\n",
              "      --disabled-bg-color: #DDD;\n",
              "  }\n",
              "\n",
              "  [theme=dark] .colab-df-quickchart {\n",
              "      --bg-color: #3B4455;\n",
              "      --fill-color: #D2E3FC;\n",
              "      --hover-bg-color: #434B5C;\n",
              "      --hover-fill-color: #FFFFFF;\n",
              "      --disabled-bg-color: #3B4455;\n",
              "      --disabled-fill-color: #666;\n",
              "  }\n",
              "\n",
              "  .colab-df-quickchart {\n",
              "    background-color: var(--bg-color);\n",
              "    border: none;\n",
              "    border-radius: 50%;\n",
              "    cursor: pointer;\n",
              "    display: none;\n",
              "    fill: var(--fill-color);\n",
              "    height: 32px;\n",
              "    padding: 0;\n",
              "    width: 32px;\n",
              "  }\n",
              "\n",
              "  .colab-df-quickchart:hover {\n",
              "    background-color: var(--hover-bg-color);\n",
              "    box-shadow: 0 1px 2px rgba(60, 64, 67, 0.3), 0 1px 3px 1px rgba(60, 64, 67, 0.15);\n",
              "    fill: var(--button-hover-fill-color);\n",
              "  }\n",
              "\n",
              "  .colab-df-quickchart-complete:disabled,\n",
              "  .colab-df-quickchart-complete:disabled:hover {\n",
              "    background-color: var(--disabled-bg-color);\n",
              "    fill: var(--disabled-fill-color);\n",
              "    box-shadow: none;\n",
              "  }\n",
              "\n",
              "  .colab-df-spinner {\n",
              "    border: 2px solid var(--fill-color);\n",
              "    border-color: transparent;\n",
              "    border-bottom-color: var(--fill-color);\n",
              "    animation:\n",
              "      spin 1s steps(1) infinite;\n",
              "  }\n",
              "\n",
              "  @keyframes spin {\n",
              "    0% {\n",
              "      border-color: transparent;\n",
              "      border-bottom-color: var(--fill-color);\n",
              "      border-left-color: var(--fill-color);\n",
              "    }\n",
              "    20% {\n",
              "      border-color: transparent;\n",
              "      border-left-color: var(--fill-color);\n",
              "      border-top-color: var(--fill-color);\n",
              "    }\n",
              "    30% {\n",
              "      border-color: transparent;\n",
              "      border-left-color: var(--fill-color);\n",
              "      border-top-color: var(--fill-color);\n",
              "      border-right-color: var(--fill-color);\n",
              "    }\n",
              "    40% {\n",
              "      border-color: transparent;\n",
              "      border-right-color: var(--fill-color);\n",
              "      border-top-color: var(--fill-color);\n",
              "    }\n",
              "    60% {\n",
              "      border-color: transparent;\n",
              "      border-right-color: var(--fill-color);\n",
              "    }\n",
              "    80% {\n",
              "      border-color: transparent;\n",
              "      border-right-color: var(--fill-color);\n",
              "      border-bottom-color: var(--fill-color);\n",
              "    }\n",
              "    90% {\n",
              "      border-color: transparent;\n",
              "      border-bottom-color: var(--fill-color);\n",
              "    }\n",
              "  }\n",
              "</style>\n",
              "\n",
              "  <script>\n",
              "    async function quickchart(key) {\n",
              "      const quickchartButtonEl =\n",
              "        document.querySelector('#' + key + ' button');\n",
              "      quickchartButtonEl.disabled = true;  // To prevent multiple clicks.\n",
              "      quickchartButtonEl.classList.add('colab-df-spinner');\n",
              "      try {\n",
              "        const charts = await google.colab.kernel.invokeFunction(\n",
              "            'suggestCharts', [key], {});\n",
              "      } catch (error) {\n",
              "        console.error('Error during call to suggestCharts:', error);\n",
              "      }\n",
              "      quickchartButtonEl.classList.remove('colab-df-spinner');\n",
              "      quickchartButtonEl.classList.add('colab-df-quickchart-complete');\n",
              "    }\n",
              "    (() => {\n",
              "      let quickchartButtonEl =\n",
              "        document.querySelector('#df-506bca7e-f270-4dc0-a6c7-6bac5cccb71c button');\n",
              "      quickchartButtonEl.style.display =\n",
              "        google.colab.kernel.accessAllowed ? 'block' : 'none';\n",
              "    })();\n",
              "  </script>\n",
              "</div>\n",
              "\n",
              "  <div id=\"id_275dd66b-6b36-4bf0-87e5-5558b8eb516b\">\n",
              "    <style>\n",
              "      .colab-df-generate {\n",
              "        background-color: #E8F0FE;\n",
              "        border: none;\n",
              "        border-radius: 50%;\n",
              "        cursor: pointer;\n",
              "        display: none;\n",
              "        fill: #1967D2;\n",
              "        height: 32px;\n",
              "        padding: 0 0 0 0;\n",
              "        width: 32px;\n",
              "      }\n",
              "\n",
              "      .colab-df-generate:hover {\n",
              "        background-color: #E2EBFA;\n",
              "        box-shadow: 0px 1px 2px rgba(60, 64, 67, 0.3), 0px 1px 3px 1px rgba(60, 64, 67, 0.15);\n",
              "        fill: #174EA6;\n",
              "      }\n",
              "\n",
              "      [theme=dark] .colab-df-generate {\n",
              "        background-color: #3B4455;\n",
              "        fill: #D2E3FC;\n",
              "      }\n",
              "\n",
              "      [theme=dark] .colab-df-generate:hover {\n",
              "        background-color: #434B5C;\n",
              "        box-shadow: 0px 1px 3px 1px rgba(0, 0, 0, 0.15);\n",
              "        filter: drop-shadow(0px 1px 2px rgba(0, 0, 0, 0.3));\n",
              "        fill: #FFFFFF;\n",
              "      }\n",
              "    </style>\n",
              "    <button class=\"colab-df-generate\" onclick=\"generateWithVariable('df')\"\n",
              "            title=\"Generate code using this dataframe.\"\n",
              "            style=\"display:none;\">\n",
              "\n",
              "  <svg xmlns=\"http://www.w3.org/2000/svg\" height=\"24px\"viewBox=\"0 0 24 24\"\n",
              "       width=\"24px\">\n",
              "    <path d=\"M7,19H8.4L18.45,9,17,7.55,7,17.6ZM5,21V16.75L18.45,3.32a2,2,0,0,1,2.83,0l1.4,1.43a1.91,1.91,0,0,1,.58,1.4,1.91,1.91,0,0,1-.58,1.4L9.25,21ZM18.45,9,17,7.55Zm-12,3A5.31,5.31,0,0,0,4.9,8.1,5.31,5.31,0,0,0,1,6.5,5.31,5.31,0,0,0,4.9,4.9,5.31,5.31,0,0,0,6.5,1,5.31,5.31,0,0,0,8.1,4.9,5.31,5.31,0,0,0,12,6.5,5.46,5.46,0,0,0,6.5,12Z\"/>\n",
              "  </svg>\n",
              "    </button>\n",
              "    <script>\n",
              "      (() => {\n",
              "      const buttonEl =\n",
              "        document.querySelector('#id_275dd66b-6b36-4bf0-87e5-5558b8eb516b button.colab-df-generate');\n",
              "      buttonEl.style.display =\n",
              "        google.colab.kernel.accessAllowed ? 'block' : 'none';\n",
              "\n",
              "      buttonEl.onclick = () => {\n",
              "        google.colab.notebook.generateWithVariable('df');\n",
              "      }\n",
              "      })();\n",
              "    </script>\n",
              "  </div>\n",
              "\n",
              "    </div>\n",
              "  </div>\n"
            ],
            "application/vnd.google.colaboratory.intrinsic+json": {
              "type": "dataframe",
              "variable_name": "df",
              "summary": "{\n  \"name\": \"df\",\n  \"rows\": 5141,\n  \"fields\": [\n    {\n      \"column\": \"MJD_1713\",\n      \"properties\": {\n        \"dtype\": \"number\",\n        \"std\": 1920.710682007969,\n        \"min\": 53040.943687135,\n        \"max\": 59303.7774954812,\n        \"num_unique_values\": 5090,\n        \"samples\": [\n          53766.8803929389,\n          56952.2444101248,\n          53585.4645884522\n        ],\n        \"semantic_type\": \"\",\n        \"description\": \"\"\n      }\n    },\n    {\n      \"column\": \"TOA_ERR_1713\",\n      \"properties\": {\n        \"dtype\": \"number\",\n        \"std\": 1.0547734500918833,\n        \"min\": 0.02,\n        \"max\": 8.563,\n        \"num_unique_values\": 2007,\n        \"samples\": [\n          0.954,\n          0.064,\n          0.373\n        ],\n        \"semantic_type\": \"\",\n        \"description\": \"\"\n      }\n    }\n  ]\n}"
            }
          },
          "metadata": {},
          "execution_count": 22
        }
      ]
    },
    {
      "cell_type": "code",
      "source": [
        "read_file = pd.read_excel(r\"/content/drive/MyDrive/SENSITIVITY/TOA_2124.xlsx\")\n",
        "read_file.to_csv(r\"/content/drive/MyDrive/SENSITIVITY/TOA_2124.csv\", index=False, header=True)"
      ],
      "metadata": {
        "id": "9dtUa1rtJ1HR"
      },
      "execution_count": null,
      "outputs": []
    },
    {
      "cell_type": "code",
      "source": [
        "read_file = pd.read_excel(r\"/content/drive/MyDrive/SENSITIVITY/TOA_2145.xlsx\")\n",
        "read_file.to_csv(r\"/content/drive/MyDrive/SENSITIVITY/TOA_2145.csv\", index=False, header=True)\n",
        "read_file = pd.read_excel(r\"/content/drive/MyDrive/SENSITIVITY/TOA_NG_1713.xlsx\")\n",
        "read_file.to_csv(r\"/content/drive/MyDrive/SENSITIVITY/TOA_NG_1713.csv\", index=False, header=True)\n",
        "read_file = pd.read_excel(r\"/content/drive/MyDrive/SENSITIVITY/TOA_NG_2124.xlsx\")\n",
        "read_file.to_csv(r\"/content/drive/MyDrive/SENSITIVITY/TOA_NG_2124.csv\", index=False, header=True)\n",
        "read_file = pd.read_excel(r\"/content/drive/MyDrive/SENSITIVITY/TOA_NG_2124.xlsx\")\n",
        "read_file.to_csv(r\"/content/drive/MyDrive/SENSITIVITY/TOA_NG_2124.csv\", index=False, header=True)\n",
        "read_file = pd.read_excel(r\"/content/drive/MyDrive/SENSITIVITY/TOA_NG_2145.xlsx\")\n",
        "read_file.to_csv(r\"/content/drive/MyDrive/SENSITIVITY/TOA_NG_2145.csv\", index=False, header=True)\n",
        "read_file = pd.read_excel(r\"/content/drive/MyDrive/SENSITIVITY/TOA_NG_AO_1713.xlsx\")\n",
        "read_file.to_csv(r\"/content/drive/MyDrive/SENSITIVITY/TOA_NG_AO_1713.csv\", index=False, header=True)\n",
        "read_file = pd.read_excel(r\"/content/drive/MyDrive/SENSITIVITY/TOA_NG_GBT_1713.xlsx\")\n",
        "read_file.to_csv(r\"/content/drive/MyDrive/SENSITIVITY/TOA_NG_GBT_1713.csv\", index=False, header=True)"
      ],
      "metadata": {
        "id": "7GrVCkHpJ9c8"
      },
      "execution_count": null,
      "outputs": []
    },
    {
      "cell_type": "code",
      "source": [
        "read_file = pd.read_excel(r\"/content/drive/MyDrive/SENSITIVITY/TOA_NG_1713.xlsx\")\n",
        "read_file.to_csv(r\"/content/drive/MyDrive/SENSITIVITY/TOA_NG_1713.csv\", index=False, header=True)"
      ],
      "metadata": {
        "id": "ZhoDBsYHKHGF"
      },
      "execution_count": null,
      "outputs": []
    },
    {
      "cell_type": "code",
      "source": [
        "read_file = pd.read_excel(r\"/content/drive/MyDrive/SENSITIVITY/TOA_NG_2124.xlsx\")\n",
        "read_file.to_csv(r\"/content/drive/MyDrive/SENSITIVITY/TOA_NG_2124.csv\", index=False, header=True)"
      ],
      "metadata": {
        "id": "oZxrqjeSKfZa"
      },
      "execution_count": null,
      "outputs": []
    },
    {
      "cell_type": "code",
      "source": [
        "read_file = pd.read_excel(r\"/content/drive/MyDrive/SENSITIVITY/TOA_NG_2145.xlsx\")\n",
        "read_file.to_csv(r\"/content/drive/MyDrive/SENSITIVITY/TOA_NG_2145.csv\", index=False, header=True)"
      ],
      "metadata": {
        "id": "cilyA4GnKfpf"
      },
      "execution_count": null,
      "outputs": []
    },
    {
      "cell_type": "code",
      "source": [
        "read_file = pd.read_excel(r\"/content/drive/MyDrive/SENSITIVITY/TOA_NG_AO_1713.xlsx\")\n",
        "read_file.to_csv(r\"/content/drive/MyDrive/SENSITIVITY/TOA_NG_AO_1713.csv\", index=False, header=True)"
      ],
      "metadata": {
        "id": "2JjwxhqWKf4Y"
      },
      "execution_count": null,
      "outputs": []
    },
    {
      "cell_type": "code",
      "source": [
        "read_file = pd.read_excel(r\"/content/drive/MyDrive/SENSITIVITY/TOA_NG_GBT_1713.xlsx\")\n",
        "read_file.to_csv(r\"/content/drive/MyDrive/SENSITIVITY/TOA_NG_GBT_1713.csv\", index=False, header=True)"
      ],
      "metadata": {
        "id": "EDFFwSULKgHL"
      },
      "execution_count": null,
      "outputs": []
    },
    {
      "cell_type": "code",
      "source": [
        "df2 = pd.DataFrame(pd.read_csv(\"/content/drive/MyDrive/SENSITIVITY/TOA_2124.csv\"))\n",
        "df3 = pd.DataFrame(pd.read_csv(\"/content/drive/MyDrive/SENSITIVITY/TOA_2145.csv\"))\n",
        "df4 = pd.DataFrame(pd.read_csv(\"/content/drive/MyDrive/SENSITIVITY/TOA_NG_1713.csv\"))\n",
        "df5 = pd.DataFrame(pd.read_csv(\"/content/drive/MyDrive/SENSITIVITY/TOA_NG_2124.csv\"))\n",
        "df6 = pd.DataFrame(pd.read_csv(\"/content/drive/MyDrive/SENSITIVITY/TOA_NG_2145.csv\"))\n",
        "df7 = pd.DataFrame(pd.read_csv(\"/content/drive/MyDrive/SENSITIVITY/TOA_NG_AO_1713.csv\"))\n",
        "df8 = pd.DataFrame(pd.read_csv(\"/content/drive/MyDrive/SENSITIVITY/TOA_NG_GBT_1713.csv\"))"
      ],
      "metadata": {
        "id": "7ILTdZpbLXv2"
      },
      "execution_count": null,
      "outputs": []
    },
    {
      "cell_type": "code",
      "source": [
        "toa_1713 = list(df[\"MJD_1713\"])\n",
        "toa_err_1713 = list(df[\"TOA_ERR_1713\"])\n",
        "toa_2124 = list(df2[\"MJD_2124\"])\n",
        "toa_err_2124 = list(df2[\"TOA_ERR_2124\"])\n",
        "toa_2145 = list(df3[\"MJD_2145\"])\n",
        "toa_err_2145 = list(df3[\"TOA_ERR_2145\"])"
      ],
      "metadata": {
        "id": "93GFPE0wMBnD"
      },
      "execution_count": null,
      "outputs": []
    },
    {
      "cell_type": "code",
      "source": [
        "from astropy.time import Time"
      ],
      "metadata": {
        "id": "2iYqTMMRMgj8"
      },
      "execution_count": null,
      "outputs": []
    },
    {
      "cell_type": "code",
      "source": [
        "times_2 = []\n",
        "times_1 = Time(toa_1713, format='mjd')\n",
        "for t in times_1:\n",
        "  times_2.append(t.iso)\n",
        "time = Time('1858-11-17 00:00:00.000', scale='utc')\n",
        "times_3 = []\n",
        "for t in times_2:\n",
        "   t1 = Time(t)\n",
        "   times_3.append(t1)\n",
        "TOA_1713 = []\n",
        "for t in times_3:\n",
        "  dt = t - time\n",
        "  TOA_1713.append(dt.sec)\n",
        "len(TOA_1713)\n",
        "df['TOA_1713'] = TOA_1713\n",
        "df.to_csv(\"/content/drive/MyDrive/SENSITIVITY/TOA_1713.csv\", index=False)"
      ],
      "metadata": {
        "colab": {
          "base_uri": "https://localhost:8080/"
        },
        "id": "r4G0DpnfMlJ5",
        "outputId": "38abec0a-cabb-4349-cc0f-f4e60d78e79e"
      },
      "execution_count": null,
      "outputs": [
        {
          "output_type": "stream",
          "name": "stderr",
          "text": [
            "/usr/local/lib/python3.10/dist-packages/erfa/core.py:133: ErfaWarning: ERFA function \"dtf2d\" yielded 1 of \"dubious year (Note 6)\"\n",
            "  warn(f'ERFA function \"{func_name}\" yielded {wmsg}', ErfaWarning)\n",
            "/usr/local/lib/python3.10/dist-packages/erfa/core.py:133: ErfaWarning: ERFA function \"utctai\" yielded 1 of \"dubious year (Note 3)\"\n",
            "  warn(f'ERFA function \"{func_name}\" yielded {wmsg}', ErfaWarning)\n"
          ]
        }
      ]
    },
    {
      "cell_type": "code",
      "source": [
        "times_5 = []\n",
        "times_4 = Time(toa_2124, format='mjd')\n",
        "for t in times_4:\n",
        "  times_5.append(t.iso)\n",
        "time = Time('1858-11-17 00:00:00.000', scale='utc')\n",
        "times_6 = []\n",
        "for t in times_5:\n",
        "   t2 = Time(t)\n",
        "   times_6.append(t2)\n",
        "TOA_2124 = []\n",
        "for t in times_6:\n",
        "  dt = t - time\n",
        "  TOA_2124.append(dt.sec)\n",
        "len(TOA_2124)\n",
        "df2['TOA_2124'] = TOA_2124\n",
        "df2.to_csv(\"/content/drive/MyDrive/SENSITIVITY/TOA_2124.csv\", index=False)"
      ],
      "metadata": {
        "colab": {
          "base_uri": "https://localhost:8080/"
        },
        "id": "0KFCR4G0MvCj",
        "outputId": "543255e9-b1e3-4785-c618-5835d476da42"
      },
      "execution_count": null,
      "outputs": [
        {
          "output_type": "stream",
          "name": "stderr",
          "text": [
            "/usr/local/lib/python3.10/dist-packages/erfa/core.py:133: ErfaWarning: ERFA function \"dtf2d\" yielded 1 of \"dubious year (Note 6)\"\n",
            "  warn(f'ERFA function \"{func_name}\" yielded {wmsg}', ErfaWarning)\n",
            "/usr/local/lib/python3.10/dist-packages/erfa/core.py:133: ErfaWarning: ERFA function \"utctai\" yielded 1 of \"dubious year (Note 3)\"\n",
            "  warn(f'ERFA function \"{func_name}\" yielded {wmsg}', ErfaWarning)\n"
          ]
        }
      ]
    },
    {
      "cell_type": "code",
      "source": [
        "times_8 = []\n",
        "times_7 = Time(toa_2145, format='mjd')\n",
        "for t in times_7:\n",
        "  times_8.append(t.iso)\n",
        "time = Time('1858-11-17 00:00:00.000', scale='utc')\n",
        "times_9 = []\n",
        "for t in times_8:\n",
        "   t3 = Time(t)\n",
        "   times_9.append(t3)\n",
        "TOA_2145 = []\n",
        "for t in times_9:\n",
        "  dt = t - time\n",
        "  TOA_2145.append(dt.sec)\n",
        "len(TOA_2145)\n",
        "df3['TOA_2145'] = TOA_2145\n",
        "df3.to_csv(\"/content/drive/MyDrive/SENSITIVITY/TOA_2145.csv\", index=False)"
      ],
      "metadata": {
        "colab": {
          "base_uri": "https://localhost:8080/"
        },
        "id": "ix5sJQkiNPdS",
        "outputId": "c2f09392-4ae2-426d-d0bb-c3ef8555e449"
      },
      "execution_count": null,
      "outputs": [
        {
          "output_type": "stream",
          "name": "stderr",
          "text": [
            "/usr/local/lib/python3.10/dist-packages/erfa/core.py:133: ErfaWarning: ERFA function \"dtf2d\" yielded 1 of \"dubious year (Note 6)\"\n",
            "  warn(f'ERFA function \"{func_name}\" yielded {wmsg}', ErfaWarning)\n",
            "/usr/local/lib/python3.10/dist-packages/erfa/core.py:133: ErfaWarning: ERFA function \"utctai\" yielded 1 of \"dubious year (Note 3)\"\n",
            "  warn(f'ERFA function \"{func_name}\" yielded {wmsg}', ErfaWarning)\n"
          ]
        }
      ]
    },
    {
      "cell_type": "code",
      "source": [
        "toa_ng_1713 = list(df4[\"MJD_ng_1713\"])\n",
        "toa_err_ng_1713 = list(df4[\"TOA_err_ng_1713\"])\n",
        "toa_ng_2124 = list(df5[\"MJD_ng_2124\"])\n",
        "toa_err_ng_2124 = list(df5[\"TOA_err_ng_2124\"])\n",
        "toa_ng_2145 = list(df6[\"MJD_ng_2145\"])\n",
        "toa_err_ng_2145 = list(df6[\"TOA_err_ng_2145\"])\n",
        "toa_ng_ao_1713 = list(df7[\"MJD_ngao_1713\"])\n",
        "toa_err_ng_ao_1713 = list(df7[\"TOA_err_1713\"])\n",
        "toa_ng_gbt_1713 = list(df8[\"MJD_nggbt_1713\"])\n",
        "toa_err_ng_gbt_1713 = list(df8[\"TOA_err_nggbt_1713\"])"
      ],
      "metadata": {
        "id": "xSddjju1OL8d"
      },
      "execution_count": null,
      "outputs": []
    },
    {
      "cell_type": "code",
      "source": [
        "np.savetxt('/content/drive/MyDrive/SENSITIVITY/TOA_2124.txt', TOA_2124, fmt=\"%f\")"
      ],
      "metadata": {
        "id": "-UgbXIQ-PbUz"
      },
      "execution_count": null,
      "outputs": []
    },
    {
      "cell_type": "code",
      "source": [
        "file1 = open(\"/content/drive/MyDrive/SENSITIVITY/TOA_2124.txt\",\"r\")\n",
        "N2 = np.loadtxt(file1, usecols = 0, unpack= True)\n",
        "N2\n"
      ],
      "metadata": {
        "colab": {
          "base_uri": "https://localhost:8080/"
        },
        "id": "SCcVUIwueXAy",
        "outputId": "d4c1f1f0-4e8b-4b08-aec0-403d40384f71"
      },
      "execution_count": null,
      "outputs": [
        {
          "output_type": "execute_result",
          "data": {
            "text/plain": [
              "array([4.58646443e+09, 4.58646443e+09, 4.58646459e+09, ...,\n",
              "       5.00849697e+09, 5.00867413e+09, 5.00867413e+09])"
            ]
          },
          "metadata": {},
          "execution_count": 33
        }
      ]
    },
    {
      "cell_type": "code",
      "source": [
        "np.savetxt('/content/drive/MyDrive/SENSITIVITY/TOA_1713.txt', TOA_1713, fmt=\"%f\")\n",
        "np.savetxt('/content/drive/MyDrive/SENSITIVITY/TOA_2145.txt', TOA_2145, fmt=\"%f\")"
      ],
      "metadata": {
        "id": "cry95PAXetAg"
      },
      "execution_count": null,
      "outputs": []
    },
    {
      "cell_type": "code",
      "source": [
        "times_11 = []\n",
        "times_10 = Time(toa_ng_1713, format='mjd')\n",
        "for t in times_10:\n",
        "  times_11.append(t.iso)\n",
        "time = Time('1858-11-17 00:00:00.000', scale='utc')\n",
        "times_12 = []\n",
        "for t in times_11:\n",
        "   t4 = Time(t)\n",
        "   times_12.append(t4)\n",
        "TOA_ng_1713 = []\n",
        "for t in times_12:\n",
        "  dt = t - time\n",
        "  TOA_ng_1713.append(dt.sec)\n",
        "len(TOA_ng_1713)\n",
        "df4['TOA_ng_1713'] = TOA_ng_1713\n",
        "df4.to_csv(\"/content/drive/MyDrive/SENSITIVITY/TOA_NG_1713.csv\", index=False)"
      ],
      "metadata": {
        "colab": {
          "base_uri": "https://localhost:8080/"
        },
        "id": "2cAg4YVmfFXU",
        "outputId": "062d7adf-aa40-4208-9396-e103c80aef9a"
      },
      "execution_count": null,
      "outputs": [
        {
          "output_type": "stream",
          "name": "stderr",
          "text": [
            "/usr/local/lib/python3.10/dist-packages/erfa/core.py:133: ErfaWarning: ERFA function \"dtf2d\" yielded 1 of \"dubious year (Note 6)\"\n",
            "  warn(f'ERFA function \"{func_name}\" yielded {wmsg}', ErfaWarning)\n",
            "/usr/local/lib/python3.10/dist-packages/erfa/core.py:133: ErfaWarning: ERFA function \"utctai\" yielded 1 of \"dubious year (Note 3)\"\n",
            "  warn(f'ERFA function \"{func_name}\" yielded {wmsg}', ErfaWarning)\n"
          ]
        }
      ]
    },
    {
      "cell_type": "code",
      "source": [
        "len(toa_ng_1713)"
      ],
      "metadata": {
        "colab": {
          "base_uri": "https://localhost:8080/"
        },
        "id": "w1gYPGi2f8pI",
        "outputId": "5a95fb28-ae4c-488f-c9a9-d43f56722d3f"
      },
      "execution_count": null,
      "outputs": [
        {
          "output_type": "execute_result",
          "data": {
            "text/plain": [
              "59389"
            ]
          },
          "metadata": {},
          "execution_count": 36
        }
      ]
    },
    {
      "cell_type": "code",
      "source": [
        "times_14 = []\n",
        "times_13 = Time(toa_ng_2124, format='mjd')\n",
        "for t in times_13:\n",
        "  times_14.append(t.iso)\n",
        "time = Time('1858-11-17 00:00:00.000', scale='utc')\n",
        "times_15 = []\n",
        "for t in times_14:\n",
        "   t5 = Time(t)\n",
        "   times_15.append(t5)\n",
        "TOA_ng_2124 = []\n",
        "for t in times_15:\n",
        "  dt = t - time\n",
        "  TOA_ng_2124.append(dt.sec)\n",
        "len(TOA_ng_2124)\n",
        "df5['TOA_ng_2124'] = TOA_ng_2124\n",
        "df5.to_csv(\"/content/drive/MyDrive/SENSITIVITY/TOA_NG_2124.csv\", index=False)"
      ],
      "metadata": {
        "colab": {
          "base_uri": "https://localhost:8080/"
        },
        "id": "UWtE2GFTiMUY",
        "outputId": "e026bd3f-90b2-411d-eda3-625ce4bb6bd9"
      },
      "execution_count": null,
      "outputs": [
        {
          "output_type": "stream",
          "name": "stderr",
          "text": [
            "/usr/local/lib/python3.10/dist-packages/erfa/core.py:133: ErfaWarning: ERFA function \"dtf2d\" yielded 1 of \"dubious year (Note 6)\"\n",
            "  warn(f'ERFA function \"{func_name}\" yielded {wmsg}', ErfaWarning)\n",
            "/usr/local/lib/python3.10/dist-packages/erfa/core.py:133: ErfaWarning: ERFA function \"utctai\" yielded 1 of \"dubious year (Note 3)\"\n",
            "  warn(f'ERFA function \"{func_name}\" yielded {wmsg}', ErfaWarning)\n"
          ]
        }
      ]
    },
    {
      "cell_type": "code",
      "source": [
        "times_17 = []\n",
        "times_16 = Time(toa_ng_2145, format='mjd')\n",
        "for t in times_16:\n",
        "  times_17.append(t.iso)\n",
        "time = Time('1858-11-17 00:00:00.000', scale='utc')\n",
        "times_18 = []\n",
        "for t in times_17:\n",
        "   t6 = Time(t)\n",
        "   times_18.append(t6)\n",
        "TOA_ng_2145 = []\n",
        "for t in times_18:\n",
        "  dt = t - time\n",
        "  TOA_ng_2145.append(dt.sec)\n",
        "len(TOA_ng_2145)\n",
        "df6['TOA_ng_2145'] = TOA_ng_2145\n",
        "df6.to_csv(\"/content/drive/MyDrive/SENSITIVITY/TOA_NG_2145.csv\", index=False)"
      ],
      "metadata": {
        "colab": {
          "base_uri": "https://localhost:8080/"
        },
        "id": "JpvGSE96nIJP",
        "outputId": "2753de96-fb15-447f-8b0e-77048545a3d9"
      },
      "execution_count": null,
      "outputs": [
        {
          "output_type": "stream",
          "name": "stderr",
          "text": [
            "/usr/local/lib/python3.10/dist-packages/erfa/core.py:133: ErfaWarning: ERFA function \"dtf2d\" yielded 1 of \"dubious year (Note 6)\"\n",
            "  warn(f'ERFA function \"{func_name}\" yielded {wmsg}', ErfaWarning)\n",
            "/usr/local/lib/python3.10/dist-packages/erfa/core.py:133: ErfaWarning: ERFA function \"utctai\" yielded 1 of \"dubious year (Note 3)\"\n",
            "  warn(f'ERFA function \"{func_name}\" yielded {wmsg}', ErfaWarning)\n"
          ]
        }
      ]
    },
    {
      "cell_type": "code",
      "source": [
        "times_20 = []\n",
        "times_19 = Time(toa_ng_ao_1713, format='mjd')\n",
        "for t in times_19:\n",
        "  times_20.append(t.iso)\n",
        "time = Time('1858-11-17 00:00:00.000', scale='utc')\n",
        "times_21 = []\n",
        "for t in times_20:\n",
        "   t7 = Time(t)\n",
        "   times_21.append(t7)\n",
        "TOA_ng_ao_1713 = []\n",
        "for t in times_21:\n",
        "  dt = t - time\n",
        "  TOA_ng_ao_1713.append(dt.sec)\n",
        "len(TOA_ng_ao_1713)\n",
        "df7['TOA_ng_ao_1713'] = TOA_ng_ao_1713\n",
        "df7.to_csv(\"/content/drive/MyDrive/SENSITIVITY/TOA_NG_AO_1713.csv\", index=False)"
      ],
      "metadata": {
        "colab": {
          "base_uri": "https://localhost:8080/"
        },
        "id": "MaDdiEIfn6TM",
        "outputId": "e5db674d-053e-4ca0-f7d5-9088552269cb"
      },
      "execution_count": null,
      "outputs": [
        {
          "output_type": "stream",
          "name": "stderr",
          "text": [
            "/usr/local/lib/python3.10/dist-packages/erfa/core.py:133: ErfaWarning: ERFA function \"dtf2d\" yielded 1 of \"dubious year (Note 6)\"\n",
            "  warn(f'ERFA function \"{func_name}\" yielded {wmsg}', ErfaWarning)\n",
            "/usr/local/lib/python3.10/dist-packages/erfa/core.py:133: ErfaWarning: ERFA function \"utctai\" yielded 1 of \"dubious year (Note 3)\"\n",
            "  warn(f'ERFA function \"{func_name}\" yielded {wmsg}', ErfaWarning)\n"
          ]
        }
      ]
    },
    {
      "cell_type": "code",
      "source": [
        "times_23 = []\n",
        "times_22 = Time(toa_ng_gbt_1713, format='mjd')\n",
        "for t in times_22:\n",
        "  times_23.append(t.iso)\n",
        "time = Time('1858-11-17 00:00:00.000', scale='utc')\n",
        "times_24 = []\n",
        "for t in times_23:\n",
        "   t8 = Time(t)\n",
        "   times_24.append(t8)\n",
        "TOA_ng_gbt_1713 = []\n",
        "for t in times_24:\n",
        "  dt = t - time\n",
        "  TOA_ng_gbt_1713.append(dt.sec)\n",
        "len(TOA_ng_gbt_1713)\n",
        "df8['TOA_ng_gbt_1713'] = TOA_ng_gbt_1713\n",
        "df8.to_csv(\"/content/drive/MyDrive/SENSITIVITY/TOA_NG_GBT_1713.csv\", index=False)"
      ],
      "metadata": {
        "colab": {
          "base_uri": "https://localhost:8080/"
        },
        "id": "PUUATEUspKF8",
        "outputId": "4e85b8a2-befa-4fc9-ef1a-939d2a222a17"
      },
      "execution_count": null,
      "outputs": [
        {
          "output_type": "stream",
          "name": "stderr",
          "text": [
            "/usr/local/lib/python3.10/dist-packages/erfa/core.py:133: ErfaWarning: ERFA function \"dtf2d\" yielded 1 of \"dubious year (Note 6)\"\n",
            "  warn(f'ERFA function \"{func_name}\" yielded {wmsg}', ErfaWarning)\n",
            "/usr/local/lib/python3.10/dist-packages/erfa/core.py:133: ErfaWarning: ERFA function \"utctai\" yielded 1 of \"dubious year (Note 3)\"\n",
            "  warn(f'ERFA function \"{func_name}\" yielded {wmsg}', ErfaWarning)\n"
          ]
        }
      ]
    },
    {
      "cell_type": "code",
      "source": [
        "np.savetxt('/content/drive/MyDrive/SENSITIVITY/TOA_ng_1713.txt', TOA_ng_1713, fmt=\"%f\")\n",
        "np.savetxt('/content/drive/MyDrive/SENSITIVITY/TOA_ng_2124.txt', TOA_ng_2124, fmt=\"%f\")\n",
        "np.savetxt('/content/drive/MyDrive/SENSITIVITY/TOA_ng_2145.txt', TOA_ng_2145, fmt=\"%f\")\n",
        "np.savetxt('/content/drive/MyDrive/SENSITIVITY/TOA_ng_ao_1713.txt', TOA_ng_ao_1713, fmt=\"%f\")\n",
        "np.savetxt('/content/drive/MyDrive/SENSITIVITY/TOA_ng_gbt_1713.txt', TOA_ng_gbt_1713, fmt=\"%f\")"
      ],
      "metadata": {
        "id": "ZcwLTxoBqDW3"
      },
      "execution_count": null,
      "outputs": []
    }
  ]
}